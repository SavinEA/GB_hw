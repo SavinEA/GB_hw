{
 "cells": [
  {
   "cell_type": "code",
   "execution_count": 5,
   "metadata": {},
   "outputs": [],
   "source": [
    "import psycopg2"
   ]
  },
  {
   "cell_type": "code",
   "execution_count": 6,
   "metadata": {},
   "outputs": [],
   "source": [
    "def save_table(port, dbname, table):\n",
    "    conn_string= f\"host='localhost' port={port} dbname={dbname} user='root' password='postgres'\" \n",
    "    with psycopg2.connect(conn_string) as conn, conn.cursor() as cursor:\n",
    "        q = f\"COPY {table} TO STDOUT WITH DELIMITER ',' CSV HEADER;\"\n",
    "        with open(f'{table}.csv', 'w') as f:\n",
    "            cursor.copy_expert(q, f)\n",
    "\n",
    "\n",
    "def load_table(port, dbname, table):\n",
    "    conn_string= f\"host='localhost' port={port} dbname={dbname} user='root' password='postgres'\" \n",
    "    with psycopg2.connect(conn_string) as conn, conn.cursor() as cursor:\n",
    "        q = f\"COPY {table} FROM STDIN WITH DELIMITER ',' CSV HEADER;\"\n",
    "        with open(f'{table}.csv', 'r') as f:\n",
    "            cursor.copy_expert(q, f)\n",
    "\n",
    "def check_result(port=5432, dbname='pg_source', table=table):\n",
    "    conn_string= f\"host='localhost' port={port} dbname={dbname} user='root' password='postgres'\" \n",
    "\n",
    "    with psycopg2.connect(conn_string) as conn, conn.cursor() as cursor:\n",
    "        query = f'select count(*) from {table}'\n",
    "        cursor.execute(query)\n",
    "        result = cursor.fetchall()\n",
    "        print(f'{dbname} count rows {table} = {result}')"
   ]
  },
  {
   "cell_type": "code",
   "execution_count": null,
   "metadata": {},
   "outputs": [],
   "source": [
    "table_list = ('customer', 'lineitem', 'nation', 'orders', 'part', 'partsupp', 'region', 'supplier')"
   ]
  },
  {
   "cell_type": "code",
   "execution_count": 1,
   "metadata": {},
   "outputs": [
    {
     "name": "stdout",
     "output_type": "stream",
     "text": [
      "succes transfer table: customer\n",
      "succes transfer table: lineitem\n",
      "succes transfer table: nation\n",
      "succes transfer table: orders\n",
      "succes transfer table: part\n",
      "succes transfer table: partsupp\n",
      "succes transfer table: region\n",
      "succes transfer table: supplier\n"
     ]
    }
   ],
   "source": [
    "for table in table_list:\n",
    "    try:\n",
    "        save_table(port=5432, dbname='pg_source', table=table)\n",
    "        load_table(port=5433, dbname='pg_target', table=table)\n",
    "        print(f'succes transfer table: {table}')\n",
    "    except:\n",
    "        print(f'error transfer table: {table}')"
   ]
  },
  {
   "cell_type": "code",
   "execution_count": 4,
   "metadata": {},
   "outputs": [
    {
     "name": "stdout",
     "output_type": "stream",
     "text": [
      "pg_source count rows customer = [(150000,)]\n",
      "pg_target count rows customer = [(150000,)]\n",
      "pg_source count rows lineitem = [(6001215,)]\n",
      "pg_target count rows lineitem = [(6001215,)]\n",
      "pg_source count rows nation = [(25,)]\n",
      "pg_target count rows nation = [(25,)]\n",
      "pg_source count rows orders = [(1500000,)]\n",
      "pg_target count rows orders = [(1500000,)]\n",
      "pg_source count rows part = [(200000,)]\n",
      "pg_target count rows part = [(200000,)]\n",
      "pg_source count rows partsupp = [(800000,)]\n",
      "pg_target count rows partsupp = [(800000,)]\n",
      "pg_source count rows region = [(5,)]\n",
      "pg_target count rows region = [(5,)]\n",
      "pg_source count rows supplier = [(10000,)]\n",
      "pg_target count rows supplier = [(10000,)]\n"
     ]
    }
   ],
   "source": [
    "for table in table_list:\n",
    "    check_result(port=5432, dbname='pg_source', table=table)\n",
    "    check_result(port=5433, dbname='pg_target', table=table)"
   ]
  }
 ],
 "metadata": {
  "kernelspec": {
   "display_name": "Python 3",
   "language": "python",
   "name": "python3"
  },
  "language_info": {
   "codemirror_mode": {
    "name": "ipython",
    "version": 3
   },
   "file_extension": ".py",
   "mimetype": "text/x-python",
   "name": "python",
   "nbconvert_exporter": "python",
   "pygments_lexer": "ipython3",
   "version": "3.10.11"
  }
 },
 "nbformat": 4,
 "nbformat_minor": 2
}
